{
  "nbformat": 4,
  "nbformat_minor": 0,
  "metadata": {
    "colab": {
      "provenance": [],
      "authorship_tag": "ABX9TyOP7u3RiEzfTKhTISsQA4Ag",
      "include_colab_link": true
    },
    "kernelspec": {
      "name": "python3",
      "display_name": "Python 3"
    },
    "language_info": {
      "name": "python"
    }
  },
  "cells": [
    {
      "cell_type": "markdown",
      "metadata": {
        "id": "view-in-github",
        "colab_type": "text"
      },
      "source": [
        "<a href=\"https://colab.research.google.com/github/Ghazzete/Sir-Zia_Assignment04/blob/main/02_lists.ipynb\" target=\"_parent\"><img src=\"https://colab.research.google.com/assets/colab-badge.svg\" alt=\"Open In Colab\"/></a>"
      ]
    },
    {
      "cell_type": "code",
      "execution_count": null,
      "metadata": {
        "id": "g-DLEFGFtRKw"
      },
      "outputs": [],
      "source": []
    },
    {
      "cell_type": "markdown",
      "source": [
        "01_add_many_number"
      ],
      "metadata": {
        "id": "bokKHFDRtdEI"
      }
    },
    {
      "cell_type": "code",
      "source": [
        "def add_many_numbers(numbers)-> int:\n",
        "    \"\"\"\n",
        "    Takes in a list of numbers and returns the sum of those numbers.\n",
        "    \"\"\"\n",
        "\n",
        "    total_so_far: int = 0\n",
        "    for number in numbers:\n",
        "        total_so_far += number\n",
        "\n",
        "    return total_so_far\n",
        "\n",
        "def main():\n",
        "    numbers: list[int] = [1, 2, 3, 4, 5]  # Make a list of numbers\n",
        "    sum_of_numbers: int = add_many_numbers(numbers)  # Find the sum of the list\n",
        "    print(sum_of_numbers)  # Print out the sum above\n",
        "\n",
        "\n",
        "if __name__ == '__main__':\n",
        "    main()"
      ],
      "metadata": {
        "colab": {
          "base_uri": "https://localhost:8080/"
        },
        "id": "pS6qmLU4te3G",
        "outputId": "67120b4b-cb25-4200-d560-bdd2f96f9ffd"
      },
      "execution_count": null,
      "outputs": [
        {
          "output_type": "stream",
          "name": "stdout",
          "text": [
            "15\n"
          ]
        }
      ]
    },
    {
      "cell_type": "markdown",
      "source": [
        "02_double_list"
      ],
      "metadata": {
        "id": "yft781IpwW0W"
      }
    },
    {
      "cell_type": "code",
      "source": [
        "def mani():\n",
        "  numbers: list[int] = [1,2,3,4]\n",
        "\n",
        "  for i in range(len(numbers)):\n",
        "    elem_at_index = numbers[i]\n",
        "    numbers[i] = elem_at_index\n",
        "\n",
        "  print(numbers)\n",
        "\n",
        "if __name__ == '__main__':\n",
        "  main()"
      ],
      "metadata": {
        "id": "4GzqZbkTwcBT"
      },
      "execution_count": null,
      "outputs": []
    },
    {
      "cell_type": "markdown",
      "source": [
        "03_erase_canvas"
      ],
      "metadata": {
        "id": "MUhJ5nmfyr8k"
      }
    },
    {
      "cell_type": "code",
      "source": [
        "def create_canvas(rows, cols):\n",
        "    \"\"\"Creates a blue canvas as a 2D grid.\"\"\"\n",
        "    return [['🟦' for _ in range(cols)] for _ in range(rows)]\n",
        "\n",
        "def print_canvas(canvas):\n",
        "    \"\"\"Displays the canvas in a readable format.\"\"\"\n",
        "    for row in canvas:\n",
        "        print(' '.join(row))\n",
        "    print()  # Empty line for better spacing\n",
        "\n",
        "def apply_eraser(canvas, start_row, start_col, height, width):\n",
        "    \"\"\"Applies an eraser over a rectangular area on the canvas.\"\"\"\n",
        "    for i in range(start_row, min(start_row + height, len(canvas))):\n",
        "        for j in range(start_col, min(start_col + width, len(canvas[0]))):\n",
        "            canvas[i][j] = '⬜'  # Turn the cell white\n",
        "\n",
        "def main():\n",
        "    rows, cols = 10, 20  # Size of the canvas\n",
        "    canvas = create_canvas(rows, cols)\n",
        "\n",
        "    print(\"🎨 Initial Canvas:\")\n",
        "    print_canvas(canvas)\n",
        "\n",
        "    # Simulate dragging eraser over (2, 5) to (5, 10)\n",
        "    apply_eraser(canvas, start_row=2, start_col=5, height=3, width=5)\n",
        "\n",
        "    print(\"🧽 Canvas After Using Eraser (from row 2, col 5, size 3x5):\")\n",
        "    print_canvas(canvas)\n",
        "\n",
        "if __name__ == '__main__':\n",
        "    main()\n"
      ],
      "metadata": {
        "colab": {
          "base_uri": "https://localhost:8080/"
        },
        "id": "asnIYtI7ywJW",
        "outputId": "3f40e16f-1990-4a59-e11d-390a7c2f406a"
      },
      "execution_count": null,
      "outputs": [
        {
          "output_type": "stream",
          "name": "stdout",
          "text": [
            "🎨 Initial Canvas:\n",
            "🟦 🟦 🟦 🟦 🟦 🟦 🟦 🟦 🟦 🟦 🟦 🟦 🟦 🟦 🟦 🟦 🟦 🟦 🟦 🟦\n",
            "🟦 🟦 🟦 🟦 🟦 🟦 🟦 🟦 🟦 🟦 🟦 🟦 🟦 🟦 🟦 🟦 🟦 🟦 🟦 🟦\n",
            "🟦 🟦 🟦 🟦 🟦 🟦 🟦 🟦 🟦 🟦 🟦 🟦 🟦 🟦 🟦 🟦 🟦 🟦 🟦 🟦\n",
            "🟦 🟦 🟦 🟦 🟦 🟦 🟦 🟦 🟦 🟦 🟦 🟦 🟦 🟦 🟦 🟦 🟦 🟦 🟦 🟦\n",
            "🟦 🟦 🟦 🟦 🟦 🟦 🟦 🟦 🟦 🟦 🟦 🟦 🟦 🟦 🟦 🟦 🟦 🟦 🟦 🟦\n",
            "🟦 🟦 🟦 🟦 🟦 🟦 🟦 🟦 🟦 🟦 🟦 🟦 🟦 🟦 🟦 🟦 🟦 🟦 🟦 🟦\n",
            "🟦 🟦 🟦 🟦 🟦 🟦 🟦 🟦 🟦 🟦 🟦 🟦 🟦 🟦 🟦 🟦 🟦 🟦 🟦 🟦\n",
            "🟦 🟦 🟦 🟦 🟦 🟦 🟦 🟦 🟦 🟦 🟦 🟦 🟦 🟦 🟦 🟦 🟦 🟦 🟦 🟦\n",
            "🟦 🟦 🟦 🟦 🟦 🟦 🟦 🟦 🟦 🟦 🟦 🟦 🟦 🟦 🟦 🟦 🟦 🟦 🟦 🟦\n",
            "🟦 🟦 🟦 🟦 🟦 🟦 🟦 🟦 🟦 🟦 🟦 🟦 🟦 🟦 🟦 🟦 🟦 🟦 🟦 🟦\n",
            "\n",
            "🧽 Canvas After Using Eraser (from row 2, col 5, size 3x5):\n",
            "🟦 🟦 🟦 🟦 🟦 🟦 🟦 🟦 🟦 🟦 🟦 🟦 🟦 🟦 🟦 🟦 🟦 🟦 🟦 🟦\n",
            "🟦 🟦 🟦 🟦 🟦 🟦 🟦 🟦 🟦 🟦 🟦 🟦 🟦 🟦 🟦 🟦 🟦 🟦 🟦 🟦\n",
            "🟦 🟦 🟦 🟦 🟦 ⬜ ⬜ ⬜ ⬜ ⬜ 🟦 🟦 🟦 🟦 🟦 🟦 🟦 🟦 🟦 🟦\n",
            "🟦 🟦 🟦 🟦 🟦 ⬜ ⬜ ⬜ ⬜ ⬜ 🟦 🟦 🟦 🟦 🟦 🟦 🟦 🟦 🟦 🟦\n",
            "🟦 🟦 🟦 🟦 🟦 ⬜ ⬜ ⬜ ⬜ ⬜ 🟦 🟦 🟦 🟦 🟦 🟦 🟦 🟦 🟦 🟦\n",
            "🟦 🟦 🟦 🟦 🟦 🟦 🟦 🟦 🟦 🟦 🟦 🟦 🟦 🟦 🟦 🟦 🟦 🟦 🟦 🟦\n",
            "🟦 🟦 🟦 🟦 🟦 🟦 🟦 🟦 🟦 🟦 🟦 🟦 🟦 🟦 🟦 🟦 🟦 🟦 🟦 🟦\n",
            "🟦 🟦 🟦 🟦 🟦 🟦 🟦 🟦 🟦 🟦 🟦 🟦 🟦 🟦 🟦 🟦 🟦 🟦 🟦 🟦\n",
            "🟦 🟦 🟦 🟦 🟦 🟦 🟦 🟦 🟦 🟦 🟦 🟦 🟦 🟦 🟦 🟦 🟦 🟦 🟦 🟦\n",
            "🟦 🟦 🟦 🟦 🟦 🟦 🟦 🟦 🟦 🟦 🟦 🟦 🟦 🟦 🟦 🟦 🟦 🟦 🟦 🟦\n",
            "\n"
          ]
        }
      ]
    },
    {
      "cell_type": "markdown",
      "source": [
        "04_flowing_with_data_structures"
      ],
      "metadata": {
        "id": "ou_WBcWl0MKj"
      }
    },
    {
      "cell_type": "code",
      "source": [
        "def add_three_copies(my_list, data):\n",
        "  for i in range(3):\n",
        "    my_list.append(data)\n",
        "\n",
        "def main():\n",
        "  message = input(\"\\033[1;mEnter a message to copy: \\033[0m\")\n",
        "  my_list = []\n",
        "  print(\"List before:\", my_list)\n",
        "  add_three_copies(my_list, message)\n",
        "  print(\"List after:\", my_list)\n",
        "\n",
        "if __name__ == '__main__':\n",
        "  main()"
      ],
      "metadata": {
        "colab": {
          "base_uri": "https://localhost:8080/"
        },
        "id": "AzJigxlK0UGt",
        "outputId": "7a340b87-65e3-4dac-8ec1-efe0087e6616"
      },
      "execution_count": null,
      "outputs": [
        {
          "output_type": "stream",
          "name": "stdout",
          "text": [
            "\u001b[1;mEnter a message to copy: \u001b[0mhello\n",
            "List before: []\n",
            "List after: ['hello', 'hello', 'hello']\n"
          ]
        }
      ]
    },
    {
      "cell_type": "markdown",
      "source": [
        "05_get_first_element"
      ],
      "metadata": {
        "id": "SNRQyOI-1U-W"
      }
    },
    {
      "cell_type": "code",
      "source": [
        "def get_first_element(lst):\n",
        "  \"\"\"\n",
        "  Prints the first element of a provided list.\n",
        "  \"\"\"\n",
        "\n",
        "  print(lst[0])\n",
        "\n",
        "def get_lst():\n",
        "  \"\"\"\n",
        "  Prompts the use to enter one element of the list at a time and returns the resultng list.\n",
        "  \"\"\"\n",
        "\n",
        "  lst = []\n",
        "  elem: str = input(\"Please enter an element of the list or press enter to stpo.\")\n",
        "  while elem != \"\":\n",
        "    lst.append(elem)\n",
        "    elem = input(\"Please enter an element of the list or pres enter to stop.\")\n",
        "  return lst\n",
        "\n",
        "def main():\n",
        "  lst = get_lst()\n",
        "  get_first_element(lst)\n",
        "\n",
        "if __name__ == '__main__':\n",
        "  main()"
      ],
      "metadata": {
        "colab": {
          "base_uri": "https://localhost:8080/"
        },
        "id": "rSDmPtRY2GsJ",
        "outputId": "9c198402-675f-4156-8d84-d74f2de916d2"
      },
      "execution_count": null,
      "outputs": [
        {
          "output_type": "stream",
          "name": "stdout",
          "text": [
            "Please enter an element of the list or press enter to stpo.list\n",
            "Please enter an element of the list or pres enter to stop.lsit\n",
            "Please enter an element of the list or pres enter to stop.list\n",
            "Please enter an element of the list or pres enter to stop.\n",
            "list\n"
          ]
        }
      ]
    },
    {
      "cell_type": "markdown",
      "source": [
        "06_get_last_element"
      ],
      "metadata": {
        "id": "KDC6x1rz4nvg"
      }
    },
    {
      "cell_type": "code",
      "source": [
        "def get_last_element(lst):\n",
        "    print(lst[-1])\n",
        "\n",
        "get_last_element([10, 20, 30, 40])"
      ],
      "metadata": {
        "colab": {
          "base_uri": "https://localhost:8080/"
        },
        "id": "RIDUi-DH5Szm",
        "outputId": "5a36a2c8-e325-449f-b201-bbb2e42d5a9f"
      },
      "execution_count": null,
      "outputs": [
        {
          "output_type": "stream",
          "name": "stdout",
          "text": [
            "40\n"
          ]
        }
      ]
    },
    {
      "cell_type": "markdown",
      "source": [
        "07_get_list"
      ],
      "metadata": {
        "id": "_Ma0LVqU7K3t"
      }
    },
    {
      "cell_type": "code",
      "source": [
        "def main():\n",
        "  lst = []\n",
        "\n",
        "  val = input(\"Enter a value: \")\n",
        "  while val:\n",
        "    lst.append(val)\n",
        "    val = input('Enter a value:')\n",
        "\n",
        "  print(\"Her's the list:\", lst)\n",
        "\n",
        "\n",
        "if __name__ == '__main__':\n",
        "  main()"
      ],
      "metadata": {
        "colab": {
          "base_uri": "https://localhost:8080/"
        },
        "id": "6JJwQ_v27Pzb",
        "outputId": "d0e883cb-908e-4474-8232-00a2e8455be6"
      },
      "execution_count": null,
      "outputs": [
        {
          "output_type": "stream",
          "name": "stdout",
          "text": [
            "Enter a value: 24\n",
            "Enter a value:34\n",
            "Enter a value:\n",
            "Her's the list: ['24', '34']\n"
          ]
        }
      ]
    },
    {
      "cell_type": "markdown",
      "source": [
        "08_shorten"
      ],
      "metadata": {
        "id": "Zsm-8OqS8C6l"
      }
    },
    {
      "cell_type": "code",
      "source": [
        "MAX_LENGTH : int = 3\n",
        "\n",
        "def shorten(lst):\n",
        "    while len(lst) > MAX_LENGTH:\n",
        "        last_elem = lst.pop()\n",
        "        print(last_elem)\n",
        "\n",
        "\n",
        "def get_lst():\n",
        "    \"\"\"\n",
        "    Prompts the user to enter one element of the list at a time and returns the resulting list.\n",
        "    \"\"\"\n",
        "    lst = []\n",
        "    elem = input(\"Please enter an element of the list or press enter to stop. \")\n",
        "    while elem != \"\":\n",
        "        lst.append(elem)\n",
        "        elem = input(\"Please enter an element of the list or press enter to stop. \")\n",
        "    return lst\n",
        "\n",
        "def main():\n",
        "    lst = get_lst()\n",
        "    shorten(lst)\n",
        "\n",
        "\n",
        "if __name__ == '__main__':\n",
        "    main()"
      ],
      "metadata": {
        "colab": {
          "base_uri": "https://localhost:8080/"
        },
        "id": "iMcbridp8FDH",
        "outputId": "78895b0c-8c45-4ed2-9c36-9a10e8628dc3"
      },
      "execution_count": null,
      "outputs": [
        {
          "name": "stdout",
          "output_type": "stream",
          "text": [
            "Please enter an element of the list or press enter to stop. 56\n",
            "Please enter an element of the list or press enter to stop. 24\n",
            "Please enter an element of the list or press enter to stop. \n"
          ]
        }
      ]
    },
    {
      "cell_type": "code",
      "source": [],
      "metadata": {
        "id": "Lvew0C7a8FMt"
      },
      "execution_count": null,
      "outputs": []
    }
  ]
}