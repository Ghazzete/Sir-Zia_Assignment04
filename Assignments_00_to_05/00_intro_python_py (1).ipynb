{
  "nbformat": 4,
  "nbformat_minor": 0,
  "metadata": {
    "colab": {
      "provenance": [],
      "authorship_tag": "ABX9TyNv0KcQfopKtTrHtV6sHEP5",
      "include_colab_link": true
    },
    "kernelspec": {
      "name": "python3",
      "display_name": "Python 3"
    },
    "language_info": {
      "name": "python"
    }
  },
  "cells": [
    {
      "cell_type": "markdown",
      "metadata": {
        "id": "view-in-github",
        "colab_type": "text"
      },
      "source": [
        "<a href=\"https://colab.research.google.com/github/Ghazzete/Sir-Zia_Assignment04/blob/main/00_intro_python_py.ipynb\" target=\"_parent\"><img src=\"https://colab.research.google.com/assets/colab-badge.svg\" alt=\"Open In Colab\"/></a>"
      ]
    },
    {
      "cell_type": "markdown",
      "source": [
        "00_intro_python"
      ],
      "metadata": {
        "id": "x9G4ZHkPy3tj"
      }
    },
    {
      "cell_type": "markdown",
      "source": [
        "add two number"
      ],
      "metadata": {
        "id": "fE5Z9JP1qpVZ"
      }
    },
    {
      "cell_type": "code",
      "source": [
        "def main():\n",
        "    num1 = input(\"Enter your first number\")\n",
        "    num1 = int(num1)\n",
        "\n",
        "    num2 = input(\"Enter your secod number\")\n",
        "    num2 = int(num2)\n",
        "\n",
        "    total_sum = num1 + num2\n",
        "    print(f'The sum of two number is: {total_sum}')\n",
        "\n",
        "\n",
        "\n",
        "if __name__ == '__main__':\n",
        "    main()"
      ],
      "metadata": {
        "id": "ZyBsvuGby6f5"
      },
      "execution_count": null,
      "outputs": []
    },
    {
      "cell_type": "markdown",
      "source": [
        "Agreement_bot"
      ],
      "metadata": {
        "id": "-YV8Nxvyy-mZ"
      }
    },
    {
      "cell_type": "code",
      "source": [],
      "metadata": {
        "id": "PHOfBGiiIrd4"
      },
      "execution_count": null,
      "outputs": []
    },
    {
      "cell_type": "code",
      "source": [
        "def main():\n",
        "\n",
        "    animal = input(\"\\033[1;3m What's your favorite animal___?\\033[0m\")\n",
        "\n",
        "    print(f\"My favourit animal is also {animal}\")\n",
        "\n",
        "\n",
        "if __name__  == '__main__':\n",
        "    main()"
      ],
      "metadata": {
        "id": "CO2NwPjdzDn2"
      },
      "execution_count": null,
      "outputs": []
    },
    {
      "cell_type": "markdown",
      "source": [
        "Fahrenheit To Calsius"
      ],
      "metadata": {
        "id": "fo_EyEjbzH0Y"
      }
    },
    {
      "cell_type": "code",
      "source": [
        "def main():\n",
        "    fahrenheit = float(input(\"\\033[1;3mEnter temperature in Fahrenheit: \\033[0m\"))\n",
        "    celsius = (fahrenheit - 32) * 5 / 9\n",
        "    print(f\"Temperature: {fahrenheit}°F = {celsius:.2f}°C\")\n",
        "\n",
        "if __name__ == \"__main__\":\n",
        "    main()\n"
      ],
      "metadata": {
        "id": "jcGd-BW7zWbG",
        "colab": {
          "base_uri": "https://localhost:8080/"
        },
        "outputId": "277fb44e-4585-47d1-b450-726d1e72ca82"
      },
      "execution_count": null,
      "outputs": [
        {
          "output_type": "stream",
          "name": "stdout",
          "text": [
            "\u001b[1;3mEnter temperature in Fahrenheit: \u001b[0m89\n",
            "Temperature: 89.0°F = 31.67°C\n"
          ]
        }
      ]
    },
    {
      "cell_type": "markdown",
      "source": [
        "How old are they"
      ],
      "metadata": {
        "id": "CkO9QAViiNvq"
      }
    },
    {
      "cell_type": "code",
      "source": [
        "def main():\n",
        "  Anton = 21\n",
        "  Beth = 6 + Anton\n",
        "  Chen = 20 + Beth\n",
        "  Drew = Anton + Chen\n",
        "  Ethan = Chen\n",
        "\n",
        "  print(\"Anton is:\",Anton)\n",
        "  print(\"Beth is:\",Beth)\n",
        "  print(\"Chen is:\",Chen)\n",
        "  print(\"Drew is:\",Drew)\n",
        "  print(\"Ethan is:\",Ethan)\n",
        "\n",
        "if __name__ == \"__main__\":\n",
        "  main()\n",
        "\n"
      ],
      "metadata": {
        "colab": {
          "base_uri": "https://localhost:8080/"
        },
        "id": "5sdKsajqiQKQ",
        "outputId": "f1533743-b0df-4e84-8f61-da759f4acbf7"
      },
      "execution_count": null,
      "outputs": [
        {
          "output_type": "stream",
          "name": "stdout",
          "text": [
            "Anton is: 21\n",
            "Beth is: 27\n",
            "Chen is: 47\n",
            "Drew is: 68\n",
            "Ethan is: 47\n"
          ]
        }
      ]
    },
    {
      "cell_type": "markdown",
      "source": [
        "triangle perimeter"
      ],
      "metadata": {
        "id": "Vci0oGfek7tw"
      }
    },
    {
      "cell_type": "code",
      "source": [
        "def main():\n",
        "  side1 :float = float(input(\"[1m Enter the length of side 1?\"))\n",
        "  side2 :float = float(input(\"Enter the length of side 2?\"))\n",
        "  side3 :float = float(input(\"Enter the length of side 3?\"))\n",
        "\n",
        "  print(\"The perimeter of triangle is \" +str (side1 + side2 + side3))\n",
        "\n",
        "if __name__ == '__main__':\n",
        "    main()"
      ],
      "metadata": {
        "id": "ERupN2MIlA8u"
      },
      "execution_count": null,
      "outputs": []
    },
    {
      "cell_type": "markdown",
      "source": [
        "square number"
      ],
      "metadata": {
        "id": "1FAK9hmPnxq_"
      }
    },
    {
      "cell_type": "code",
      "source": [
        "def main():\n",
        "  num : float = float(input(\"Type a number to see its squar: \"))\n",
        "  print(str(num) + \" squared is \" + str(num ** 2))\n",
        "if __name__ == '__main__':\n",
        "  main()"
      ],
      "metadata": {
        "id": "Abz4tzgenz7J"
      },
      "execution_count": null,
      "outputs": []
    },
    {
      "cell_type": "markdown",
      "source": [
        "01_expressions"
      ],
      "metadata": {
        "id": "zC-Y9ix-q7et"
      }
    },
    {
      "cell_type": "markdown",
      "source": [
        "01_dicesimulator"
      ],
      "metadata": {
        "id": "H4WrqMZurWDh"
      }
    },
    {
      "cell_type": "code",
      "source": [
        "\"\"\"\n",
        "Program: dicesimulator\n",
        "----------------------\n",
        "Simulate rolling two dice, three times.  Prints\n",
        "the results of each die roll.  This program is used\n",
        "to show how variable scope works.\n",
        "\"\"\"\n",
        "\n",
        "import random\n",
        "\n",
        "NUM_SIDES = 6\n",
        "\n",
        "def roll_dice():\n",
        "  \"\"\"\n",
        "  Simulates rolling two dice and prints their total\n",
        "  \"\"\"\n",
        "\n",
        "  die1 : int = random.randint(1, NUM_SIDES)\n",
        "  die2 : int = random.randint(1, NUM_SIDES)\n",
        "  total : int = die1 + die2\n",
        "  print(\"Total of two dies: \",total)\n",
        "\n",
        "def main():\n",
        "  die1: int = 10\n",
        "  print(\"dei1 in main start as: \" +str(die1))\n",
        "  roll_dice()\n",
        "  roll_dice()\n",
        "  roll_dice()\n",
        "  print(\"die1 in main is: \" +str(die1))\n",
        "\n",
        "if __name__ == '__main__':\n",
        "  main()"
      ],
      "metadata": {
        "id": "C54joXt3rY2q"
      },
      "execution_count": null,
      "outputs": []
    },
    {
      "cell_type": "markdown",
      "source": [
        "02_e=mc2.md"
      ],
      "metadata": {
        "id": "tOD6HPleIv2T"
      }
    },
    {
      "cell_type": "code",
      "source": [
        "C: int = 299792458\n",
        "\n",
        "def main():\n",
        "  mass_in_kg: float = float(input(\"Enter kilos of mass:\"))\n",
        "\n",
        "  # Calculate energy\n",
        "  # equilvalently energy = mass * (C ** 2)\n",
        "  # using the ** operator to raise C to the power of 2\n",
        "  energy_in_joules: float = mass_in_kg * (C ** 2)\n",
        "\n",
        "  # Display work to the user\n",
        "  print(\"e = m * C^2...\")\n",
        "  print(\"m = \" +str(mass_in_kg) + \"kg\")\n",
        "  print(\"C = \" +str(C) + \"m/s\")\n",
        "\n",
        "  print(str(energy_in_joules) + \" joules of energy!\")\n",
        "\n",
        "if __name__ == '__main__':\n",
        "  main()"
      ],
      "metadata": {
        "colab": {
          "base_uri": "https://localhost:8080/"
        },
        "id": "fzAU18ZZIy5V",
        "outputId": "6d0e1c19-b824-4752-c729-cce5574b1439"
      },
      "execution_count": null,
      "outputs": [
        {
          "output_type": "stream",
          "name": "stdout",
          "text": [
            "Enter kilos of mass:56\n",
            "e = m * C^2...\n",
            "m = 56.0kg\n",
            "C = 299792458m/s\n",
            "5.033029000926178e+18joules of energy!\n"
          ]
        }
      ]
    },
    {
      "cell_type": "markdown",
      "source": [
        "03_feet_to_inches"
      ],
      "metadata": {
        "id": "vfkr9tynMacO"
      }
    },
    {
      "cell_type": "code",
      "source": [
        "INCHES_IN_FOOT: int = 12\n",
        "\n",
        "def main():\n",
        "  feet: float = float(input(\"Enter number of feet: \"))\n",
        "  inches: float = feet * INCHES_IN_FOOT\n",
        "  print(\"This is\", inches, \"inches!\")\n",
        "\n",
        "if __name__ == '__main__':\n",
        "  main()"
      ],
      "metadata": {
        "colab": {
          "base_uri": "https://localhost:8080/"
        },
        "id": "7_DRx47cMci5",
        "outputId": "96347753-0bba-46ff-f73f-a2dc5834ed21"
      },
      "execution_count": null,
      "outputs": [
        {
          "output_type": "stream",
          "name": "stdout",
          "text": [
            "Enter number of feet: 12\n",
            "This is 144.0 inches!\n"
          ]
        }
      ]
    },
    {
      "cell_type": "markdown",
      "source": [
        "04_pythagorean_theorem"
      ],
      "metadata": {
        "id": "wHCcRJg4OgFF"
      }
    },
    {
      "cell_type": "code",
      "source": [
        "import math\n",
        "\n",
        "def main():\n",
        "  # Get the two side lengths from the user and cast them.\n",
        "\n",
        "  ab: float = float(input(\"Enter the length of AB: \"))\n",
        "  ac: float = float(input(\"Enter the length of AC: \"))\n",
        "\n",
        "  # Calculate the hypotenuse using the two sides and print it out\n",
        "  bc: float = math.sqrt(ab**2 + ac**2)\n",
        "  print(\"The length of BC (the hypotenuse) is: \"+ str(bc))\n",
        "\n",
        "if __name__ == '__main__':\n",
        "  main()\n"
      ],
      "metadata": {
        "colab": {
          "base_uri": "https://localhost:8080/"
        },
        "id": "QxOTY_nbOhlQ",
        "outputId": "525c7654-f2a9-4ab3-8ef7-68dcb7135f1d"
      },
      "execution_count": null,
      "outputs": [
        {
          "output_type": "stream",
          "name": "stdout",
          "text": [
            "Enter the length of AB: 12\n",
            "Enter the length of AC: 13\n",
            "The length of BC (the hypotenuse) is: 17.69180601295413\n"
          ]
        }
      ]
    },
    {
      "cell_type": "markdown",
      "source": [
        "05_remainder_division"
      ],
      "metadata": {
        "id": "lHqpsJBeQLlb"
      }
    },
    {
      "cell_type": "code",
      "source": [
        "def main():\n",
        "    dividend: int = int(input(\"Please enter an integer to be divided: \"))\n",
        "    divisor: int = int(input(\"Please enter an integer to divide by: \"))\n",
        "\n",
        "    quotient: int = dividend // divisor\n",
        "    remainder: int = dividend % divisor\n",
        "\n",
        "    print(\"The result of this division is \" + str(quotient) + \" with a remainder of \" + str(remainder))\n",
        "\n",
        "if __name__ == '__main__':\n",
        "    main()\n"
      ],
      "metadata": {
        "colab": {
          "base_uri": "https://localhost:8080/"
        },
        "id": "adhdSB6oQMwL",
        "outputId": "34bd0ecc-ad35-47ed-a4d9-cf6ec0c553d5"
      },
      "execution_count": null,
      "outputs": [
        {
          "output_type": "stream",
          "name": "stdout",
          "text": [
            "Please enter an integer to be divided: 5\n",
            "Please enter an integer to divide by:  20\n",
            "The result of this division is0with a remainder of5\n"
          ]
        }
      ]
    },
    {
      "cell_type": "markdown",
      "source": [
        "06_rolldice"
      ],
      "metadata": {
        "id": "mYpsMTOHTerJ"
      }
    },
    {
      "cell_type": "code",
      "source": [
        "import random\n",
        "\n",
        "NUM_SIDES: int = 6\n",
        "\n",
        "def main():\n",
        "\n",
        "  die1: int = random.randint(1, NUM_SIDES)\n",
        "  die2: int = random.randint(1, NUM_SIDES)\n",
        "\n",
        "  total: int = die1 + die2\n",
        "\n",
        "  print(\"Dice have\", NUM_SIDES, \"sides each.\")\n",
        "  print(\"First die:\", die1)\n",
        "  print(\"Second die:\", die2)\n",
        "  print(\"Total of two dice:\", total)\n",
        "\n",
        "if __name__ == \"__main__\":\n",
        "  main()"
      ],
      "metadata": {
        "colab": {
          "base_uri": "https://localhost:8080/"
        },
        "id": "Aggt6L_5TfgT",
        "outputId": "d9e348d8-12a7-48e2-8911-aa2fb26c355a"
      },
      "execution_count": null,
      "outputs": [
        {
          "output_type": "stream",
          "name": "stdout",
          "text": [
            "Dice have 6 sides each.\n",
            "First die: 4\n",
            "Second die: 5\n",
            "Total of two dice: 9\n"
          ]
        }
      ]
    },
    {
      "cell_type": "markdown",
      "source": [
        "06_second_in_year"
      ],
      "metadata": {
        "id": "y_FJklLEVNYI"
      }
    },
    {
      "cell_type": "code",
      "source": [
        "DAYS_PER_YEAR: int = 365\n",
        "HOURS_PER_DAY: int = 24\n",
        "MIN_PER_HOUR: int = 60\n",
        "SEC_PER_MIN: int = 60\n",
        "\n",
        "def main():\n",
        "\n",
        "  print(\"There are \" + str(DAYS_PER_YEAR * HOURS_PER_DAY * MIN_PER_HOUR * SEC_PER_MIN ) + \"  second in a year!\")\n",
        "\n",
        "if __name__ == \"__main__\":\n",
        "  main()"
      ],
      "metadata": {
        "colab": {
          "base_uri": "https://localhost:8080/"
        },
        "id": "lfB0pnHjVR-u",
        "outputId": "a024652a-feff-4989-c0d6-4635ef78ddfc"
      },
      "execution_count": null,
      "outputs": [
        {
          "output_type": "stream",
          "name": "stdout",
          "text": [
            "There are 31536000second in a year!\n"
          ]
        }
      ]
    },
    {
      "cell_type": "markdown",
      "source": [
        "07_tiny_mad_lib"
      ],
      "metadata": {
        "id": "qMS3dsntWcJk"
      }
    },
    {
      "cell_type": "code",
      "source": [
        "def main():\n",
        "    # Prompt the user for an adjective, noun, and verb\n",
        "    adjective = input(\"Please type an adjective and press enter: \")\n",
        "    noun = input(\"Please type a noun and press enter: \")\n",
        "    verb = input(\"Please type a verb and press enter: \")\n",
        "\n",
        "    # Print the fun sentence with the user's inputs\n",
        "    print(f\"Code in Place is fun. I learned to program and used Python to make my {adjective} {noun} {verb}!\")\n",
        "\n",
        "# This provided line is required at the end of the Python file to call the main() function.\n",
        "if __name__ == '__main__':\n",
        "    main()"
      ],
      "metadata": {
        "colab": {
          "base_uri": "https://localhost:8080/"
        },
        "id": "_vDgA_eyWdUU",
        "outputId": "0922c70f-03de-451c-afe8-de096b8c50ce"
      },
      "execution_count": null,
      "outputs": [
        {
          "output_type": "stream",
          "name": "stdout",
          "text": [
            "Please type an adjective and press enter: guft\n",
            "Please type a noun and press enter: huji\n",
            "Please type a verb and press enter: hjk\n",
            "Code in Place is fun. I learned to program and used Python to make my guft huji hjk!\n"
          ]
        }
      ]
    }
  ]
}